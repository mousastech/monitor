{
 "cells": [
  {
   "cell_type": "markdown",
   "metadata": {
    "application/vnd.databricks.v1+cell": {
     "cellMetadata": {},
     "inputWidgets": {},
     "nuid": "2cf75473-3fd0-4746-af2d-c9480d3b7a1d",
     "showTitle": false,
     "tableResultSettingsMap": {},
     "title": ""
    }
   },
   "source": [
    "# Control y Gestión de Costos y Auditoría\n",
    "\n",
    "25 Top queries para la gestión de costes y auditoria.\n",
    "Consulta la documentación de [Tablas de Sistema](https://docs.databricks.com/aws/en/admin/system-tables/) para mas detalles."
   ]
  },
  {
   "cell_type": "code",
   "execution_count": 0,
   "metadata": {
    "application/vnd.databricks.v1+cell": {
     "cellMetadata": {
      "byteLimit": 2048000,
      "implicitDf": true,
      "rowLimit": 10000
     },
     "inputWidgets": {},
     "nuid": "bf7c4533-74df-4fe9-b2f3-32bcf21ce689",
     "showTitle": true,
     "tableResultSettingsMap": {},
     "title": "¿Cuánto es el consumo diario de Databricks?"
    }
   },
   "outputs": [
    {
     "output_type": "display_data",
     "data": {
      "text/plain": [
       "Databricks visualization. Run in Databricks to view."
      ]
     },
     "metadata": {
      "application/vnd.databricks.v1.subcommand+json": {
       "baseErrorDetails": null,
       "bindings": {},
       "collapsed": false,
       "command": "%sql WITH q AS (SELECT\n    DATE(u.usage_date) AS fecha,\n    SUM(u.usage_quantity) AS dbu_consumida,\n    SUM(u.usage_quantity * lp.pricing.default) AS coste\nFROM \n    system.billing.usage AS u\nLEFT JOIN \n    system.billing.list_prices AS lp \nON \n    u.cloud = lp.cloud \n    AND u.sku_name = lp.sku_name \n    AND u.usage_start_time >= lp.price_start_time \n    AND (u.usage_end_time <= lp.price_end_time OR lp.price_end_time IS NULL)\nGROUP BY \n    DATE(u.usage_date)\nORDER BY \n    DATE(u.usage_date) ASC) SELECT SUM(`dbu_consumida`) `column_92c07fe8179`,SUM(`coste`) `column_92c07fe8180`,`fecha` FROM q GROUP BY `fecha`",
       "commandTitle": "Vista Grafica",
       "commandType": "auto",
       "commandVersion": 0,
       "commentThread": [],
       "commentsVisible": false,
       "contentSha256Hex": null,
       "customPlotOptions": {
        "redashChart": [
         {
          "key": "type",
          "value": "CHART"
         },
         {
          "key": "options",
          "value": {
           "alignYAxesAtZero": true,
           "coefficient": 1,
           "columnConfigurationMap": {
            "x": {
             "column": "fecha",
             "id": "column_92c07fe8181"
            },
            "y": [
             {
              "column": "dbu_consumida",
              "id": "column_92c07fe8179",
              "transform": "SUM"
             },
             {
              "column": "coste",
              "id": "column_92c07fe8180",
              "transform": "SUM"
             }
            ]
           },
           "dateTimeFormat": "DD/MM/YYYY HH:mm",
           "direction": {
            "type": "counterclockwise"
           },
           "error_y": {
            "type": "data",
            "visible": true
           },
           "globalSeriesType": "line",
           "legend": {
            "traceorder": "normal"
           },
           "missingValuesAsZero": true,
           "numberFormat": "0,0.[00000]",
           "percentFormat": "0[.]00%",
           "series": {
            "error_y": {
             "type": "data",
             "visible": true
            },
            "stacking": null
           },
           "seriesOptions": {
            "column_92c07fe8179": {
             "name": "dbu_consumida",
             "yAxis": 0
            },
            "column_92c07fe8180": {
             "name": "coste",
             "yAxis": 0
            }
           },
           "showDataLabels": false,
           "sizemode": "diameter",
           "sortX": true,
           "sortY": true,
           "swappedAxes": false,
           "textFormat": "",
           "useAggregationsUi": true,
           "valuesOptions": {},
           "version": 2,
           "xAxis": {
            "labels": {
             "enabled": true
            },
            "type": "-"
           },
           "yAxis": [
            {
             "type": "-"
            },
            {
             "opposite": true,
             "type": "-"
            }
           ]
          }
         }
        ]
       },
       "datasetPreviewNameToCmdIdMap": {},
       "diffDeletes": [],
       "diffInserts": [],
       "displayType": "redashChart",
       "error": null,
       "errorDetails": null,
       "errorSummary": null,
       "errorTraceType": null,
       "finishTime": 0,
       "globalVars": {},
       "guid": "",
       "height": "auto",
       "hideCommandCode": false,
       "hideCommandResult": false,
       "iPythonMetadata": null,
       "inputWidgets": {},
       "isLockedInExamMode": false,
       "latestUser": "a user",
       "latestUserId": null,
       "listResultMetadata": null,
       "metadata": {},
       "nuid": "4dba6bac-07d2-4ef0-832f-fc25bbd707a2",
       "origId": 0,
       "parentHierarchy": [],
       "pivotAggregation": null,
       "pivotColumns": null,
       "position": 3.0,
       "resultDbfsErrorMessage": null,
       "resultDbfsStatus": "INLINED_IN_TREE",
       "results": null,
       "showCommandTitle": false,
       "startTime": 0,
       "state": "input",
       "streamStates": {},
       "subcommandOptions": {
        "queryPlan": {
         "groups": [
          {
           "column": "fecha",
           "type": "column"
          }
         ],
         "selects": [
          {
           "alias": "column_92c07fe8179",
           "args": [
            {
             "column": "dbu_consumida",
             "type": "column"
            }
           ],
           "function": "SUM",
           "type": "function"
          },
          {
           "alias": "column_92c07fe8180",
           "args": [
            {
             "column": "coste",
             "type": "column"
            }
           ],
           "function": "SUM",
           "type": "function"
          },
          {
           "column": "fecha",
           "type": "column"
          }
         ]
        }
       },
       "submitTime": 0,
       "subtype": "tableResultSubCmd.visualization",
       "tableResultIndex": 0,
       "tableResultSettingsMap": {},
       "useConsistentColors": false,
       "version": "CommandV1",
       "width": "auto",
       "workflows": null,
       "xColumns": null,
       "yColumns": null
      }
     },
     "output_type": "display_data"
    }
   ],
   "source": [
    "--01. ¿Cuánto es el consumo diario de Databricks?\n",
    "\n",
    "SELECT\n",
    "    DATE(u.usage_date) AS fecha,\n",
    "    SUM(u.usage_quantity) AS dbu_consumida,\n",
    "    SUM(u.usage_quantity * lp.pricing.default) AS coste\n",
    "FROM \n",
    "    system.billing.usage AS u\n",
    "LEFT JOIN \n",
    "    system.billing.list_prices AS lp \n",
    "ON \n",
    "    u.cloud = lp.cloud \n",
    "    AND u.sku_name = lp.sku_name \n",
    "    AND u.usage_start_time >= lp.price_start_time \n",
    "    AND (u.usage_end_time <= lp.price_end_time OR lp.price_end_time IS NULL)\n",
    "GROUP BY \n",
    "    DATE(u.usage_date)\n",
    "ORDER BY \n",
    "    DATE(u.usage_date) ASC;"
   ]
  },
  {
   "cell_type": "code",
   "execution_count": 0,
   "metadata": {
    "application/vnd.databricks.v1+cell": {
     "cellMetadata": {
      "byteLimit": 2048000,
      "rowLimit": 10000
     },
     "inputWidgets": {},
     "nuid": "9963de51-9ae1-45f4-8f88-2ff5d235ae08",
     "showTitle": true,
     "tableResultSettingsMap": {},
     "title": "¿Cuánto es el consumo de Databricks por año/mes?"
    }
   },
   "outputs": [],
   "source": [
    "--02. ¿Cuánto es el consumo de Databricks por año/mes?\n",
    "\n",
    "SELECT\n",
    " u.workspace_id,\n",
    " CASE\n",
    "     WHEN u.sku_name LIKE '%ALL_PURPOSE%' THEN 'ALL_PURPOSE'\n",
    "     WHEN u.sku_name LIKE '%JOBS_COMPUTE%' THEN 'JOBS'\n",
    "     WHEN u.sku_name LIKE '%DLT%' THEN 'DLT'\n",
    "     WHEN u.sku_name LIKE '%ENTERPRISE_SQL_COMPUTE%' THEN 'SQL'\n",
    "     WHEN u.sku_name LIKE '%ENTERPRISE_SQL_PRO_COMPUTE%' THEN 'SQL'\n",
    "     WHEN u.sku_name LIKE '%SERVERLESS_SQL_COMPUTE%' THEN 'SQL_SERVERLESS'\n",
    "     WHEN u.sku_name LIKE '%INFERENCE%' THEN 'MODEL_INFERENCE'\n",
    "     ELSE 'OTHER'\n",
    " END AS sku,\n",
    " u.cloud,\n",
    " u.usage_date,\n",
    " date_format(u.usage_date, 'yyyy-MM') as YearMonth,\n",
    " u.usage_unit,\n",
    " u.usage_quantity,\n",
    " lp.pricing.default as list_price,\n",
    " lp.pricing.default * u.usage_quantity as list_cost,\n",
    " u.usage_quantity * lp.pricing.default as actual_cost\n",
    "FROM\n",
    " system.billing.usage u\n",
    " LEFT JOIN system.billing.list_prices lp on u.cloud = lp.cloud and\n",
    "   u.sku_name = lp.sku_name and\n",
    "   u.usage_start_time >= lp.price_start_time and\n",
    "   (u.usage_end_time <= lp.price_end_time or lp.price_end_time is null);"
   ]
  },
  {
   "cell_type": "code",
   "execution_count": 0,
   "metadata": {
    "application/vnd.databricks.v1+cell": {
     "cellMetadata": {},
     "inputWidgets": {},
     "nuid": "5866c4d8-27eb-41a5-84f6-2724db67cbf8",
     "showTitle": true,
     "tableResultSettingsMap": {},
     "title": "¿Cuál es el consumo de cada SKU en el mes actual?"
    }
   },
   "outputs": [],
   "source": [
    "--03. ¿Cuál es el consumo de cada SKU en el mes actual?\n",
    "\n",
    "SELECT\n",
    "  CASE\n",
    "     WHEN u.sku_name LIKE '%ALL_PURPOSE%' THEN 'ALL_PURPOSE'\n",
    "     WHEN u.sku_name LIKE '%JOBS_COMPUTE%' THEN 'JOBS'\n",
    "     WHEN u.sku_name LIKE '%DLT%' THEN 'DLT'\n",
    "     WHEN u.sku_name LIKE '%ENTERPRISE_SQL_COMPUTE%' THEN 'SQL'\n",
    "     WHEN u.sku_name LIKE '%ENTERPRISE_SQL_PRO_COMPUTE%' THEN 'SQL'\n",
    "     WHEN u.sku_name LIKE '%SERVERLESS_SQL_COMPUTE%' THEN 'SQL_SERVERLESS'\n",
    "     WHEN u.sku_name LIKE '%INFERENCE%' THEN 'MODEL_INFERENCE'\n",
    "     ELSE 'OTHER'\n",
    "  END AS sku,\n",
    "  sum(u.usage_quantity) as DBU,\n",
    "  sum(u.usage_quantity * lp.pricing.default) as dolares\n",
    " FROM system.billing.usage u\n",
    "   LEFT JOIN system.billing.list_prices lp ON u.cloud = lp.cloud AND\n",
    "     u.sku_name = lp.sku_name AND\n",
    "     u.usage_start_time >= lp.price_start_time AND\n",
    "     (u.usage_end_time <= lp.price_end_time or lp.price_end_time is null)\n",
    "WHERE\n",
    " month(u.usage_date) = month(CURRENT_DATE)\n",
    "GROUP BY sku;"
   ]
  },
  {
   "cell_type": "code",
   "execution_count": 0,
   "metadata": {
    "application/vnd.databricks.v1+cell": {
     "cellMetadata": {},
     "inputWidgets": {},
     "nuid": "767b982b-66bb-49e4-8766-e54036bec6df",
     "showTitle": true,
     "tableResultSettingsMap": {},
     "title": "¿Cómo se compara el consumo entre el mes actual y el mes anterior?"
    }
   },
   "outputs": [],
   "source": [
    "--04. ¿Cómo se compara el consumo entre el mes actual y el mes anterior?\n",
    "\n",
    "SELECT\n",
    "    after.sku_name,\n",
    "    before.before_dbus,\n",
    "    after.after_dbus,\n",
    "    ((after.after_dbus - before.before_dbus) / before.before_dbus * 100) AS growth_rate\n",
    "FROM\n",
    "    (\n",
    "        SELECT\n",
    "            sku_name,\n",
    "            SUM(usage_quantity) AS before_dbus\n",
    "        FROM\n",
    "            system.billing.usage\n",
    "        WHERE\n",
    "            month(usage_date) = month(CURRENT_DATE) - 1\n",
    "        GROUP BY\n",
    "            sku_name\n",
    "    ) AS before\n",
    "JOIN\n",
    "    (\n",
    "        SELECT\n",
    "            sku_name,\n",
    "            SUM(usage_quantity) AS after_dbus\n",
    "        FROM\n",
    "            system.billing.usage\n",
    "        WHERE\n",
    "            month(usage_date) = month(CURRENT_DATE)\n",
    "        GROUP BY\n",
    "            sku_name\n",
    "    ) AS after\n",
    "ON\n",
    "    before.sku_name = after.sku_name\n",
    "ORDER BY\n",
    "    growth_rate DESC;"
   ]
  },
  {
   "cell_type": "code",
   "execution_count": 0,
   "metadata": {
    "application/vnd.databricks.v1+cell": {
     "cellMetadata": {},
     "inputWidgets": {},
     "nuid": "5a99ffd9-f780-4294-9799-f126b70c2cda",
     "showTitle": true,
     "tableResultSettingsMap": {},
     "title": "¿Cuántos usuarios activos mensuales hay?"
    }
   },
   "outputs": [],
   "source": [
    "--05. ¿Cuántos usuarios activos mensuales hay?\n",
    "\n",
    "SELECT \n",
    "    year_month,\n",
    "    active_users,\n",
    "    LAG(active_users, 1) OVER (ORDER BY year_month) AS active_users_previous_month,\n",
    "    CASE\n",
    "        WHEN LAG(active_users, 1) OVER (ORDER BY year_month) IS NULL THEN 0\n",
    "        ELSE active_users - LAG(active_users, 1) OVER (ORDER BY year_month)\n",
    "    END AS growth,\n",
    "    ROUND(\n",
    "        (\n",
    "            (active_users - LAG(active_users, 1) OVER (ORDER BY year_month)) * 100\n",
    "        ) / LAG(active_users, 1) OVER (ORDER BY year_month), \n",
    "        2\n",
    "    ) AS perc_grow\n",
    "FROM (\n",
    "    SELECT \n",
    "        DATE_FORMAT(event_time, 'MM/yy') AS year_month,\n",
    "        COUNT(DISTINCT user_identity.email) AS active_users\n",
    "    FROM \n",
    "        system.access.audit\n",
    "    WHERE \n",
    "        YEAR(event_time) = YEAR(CURRENT_DATE())\n",
    "        AND action_name IS NOT NULL\n",
    "    GROUP BY \n",
    "        year_month\n",
    "    ORDER BY \n",
    "        year_month\n",
    ") AS subquery;"
   ]
  },
  {
   "cell_type": "code",
   "execution_count": 0,
   "metadata": {
    "application/vnd.databricks.v1+cell": {
     "cellMetadata": {},
     "inputWidgets": {},
     "nuid": "9d46c82b-e1a1-4872-a22e-2060f56453c0",
     "showTitle": true,
     "tableResultSettingsMap": {},
     "title": "¿Qué clusters consumen más?"
    }
   },
   "outputs": [],
   "source": [
    "--06. ¿Qué clusters consumen más?\n",
    "\n",
    "WITH clusters AS (\n",
    "    SELECT\n",
    "        *,\n",
    "        row_number() OVER (PARTITION BY cluster_id ORDER BY change_time DESC) AS rn\n",
    "    FROM\n",
    "        system.compute.clusters c\n",
    ")\n",
    "SELECT\n",
    "    c.cluster_name,\n",
    "    SUM(u.usage_quantity) AS `DBUs Consumed`,\n",
    "    SUM(u.usage_quantity * lp.pricing.default) AS `Total Dollar Cost`\n",
    "FROM\n",
    "    system.billing.usage u\n",
    "    LEFT JOIN system.billing.list_prices lp ON u.cloud = lp.cloud\n",
    "        AND u.sku_name = lp.sku_name\n",
    "        AND u.usage_start_time >= lp.price_start_time\n",
    "        AND (u.usage_end_time <= lp.price_end_time OR lp.price_end_time IS NULL)\n",
    "    INNER JOIN clusters c ON u.usage_metadata.cluster_id = c.cluster_id\n",
    "WHERE\n",
    "    rn = 1\n",
    "GROUP BY\n",
    "    c.cluster_name\n",
    "ORDER BY\n",
    "    `Total Dollar Cost` DESC;"
   ]
  },
  {
   "cell_type": "code",
   "execution_count": 0,
   "metadata": {
    "application/vnd.databricks.v1+cell": {
     "cellMetadata": {},
     "inputWidgets": {},
     "nuid": "4f7c8d36-3792-44f9-a482-a90502a1f6e7",
     "showTitle": true,
     "tableResultSettingsMap": {},
     "title": "¿Quiénes son los propietarios de los clusters interactivos?"
    }
   },
   "outputs": [],
   "source": [
    "--07. ¿Quiénes son los propietarios de los clusters interactivos?\n",
    "\n",
    "select\n",
    "  cluster_id,\n",
    "  owned_by as usuario\n",
    "from\n",
    "  system.compute.clusters\n",
    "group by all;"
   ]
  },
  {
   "cell_type": "code",
   "execution_count": 0,
   "metadata": {
    "application/vnd.databricks.v1+cell": {
     "cellMetadata": {},
     "inputWidgets": {},
     "nuid": "77552b5b-ba48-4b2d-8826-6a57f0d0e492",
     "showTitle": true,
     "tableResultSettingsMap": {},
     "title": "¿A qué clústeres interactivos están accediendo los usuarios?"
    }
   },
   "outputs": [],
   "source": [
    "--08. ¿A qué clústeres interactivos están accediendo los usuarios?\n",
    "\n",
    "WITH user_cluster AS (\n",
    "  SELECT DISTINCT \n",
    "    a.user_identity.email AS email,\n",
    "    element_at(a.request_params, 'cluster_id') AS cluster_id\n",
    "  FROM \n",
    "    system.access.audit AS a\n",
    ")\n",
    "SELECT DISTINCT\n",
    "  c.cluster_source AS cluster_source,\n",
    "  a.cluster_id AS cluster_id,\n",
    "  c.cluster_name AS cluster_name,\n",
    "  a.email AS email\n",
    "FROM \n",
    "  user_cluster AS a\n",
    "JOIN \n",
    "  system.compute.clusters AS c \n",
    "ON \n",
    "  a.cluster_id = c.cluster_id\n",
    "WHERE \n",
    "  a.cluster_id IS NOT NULL\n",
    "  AND c.cluster_source NOT IN ('JOB')\n",
    "ORDER BY \n",
    "  cluster_source,\n",
    "  cluster_id,\n",
    "  cluster_name\n",
    ";"
   ]
  },
  {
   "cell_type": "code",
   "execution_count": 0,
   "metadata": {
    "application/vnd.databricks.v1+cell": {
     "cellMetadata": {},
     "inputWidgets": {},
     "nuid": "98ff77db-7a13-479c-a0dc-62a459dc7b1e",
     "showTitle": true,
     "tableResultSettingsMap": {},
     "title": "¿Qué usuarios tienen el mayor tiempo de ejecución dentro de un clúster interactivo?"
    }
   },
   "outputs": [],
   "source": [
    "--09. ¿Qué usuarios tienen el mayor tiempo de ejecución dentro de un clúster interactivo?\n",
    "\n",
    "SELECT\n",
    "  user_identity.email AS email,\n",
    "  request_params.commandLanguage AS command_language,\n",
    "  SUM(request_params.executionTime) / 3600 AS minutes\n",
    "FROM\n",
    "  system.access.audit\n",
    "WHERE\n",
    "  action_name = 'runCommand'\n",
    "  AND request_params.status NOT IN ('skipped')\n",
    "GROUP BY\n",
    "  user_identity.email,\n",
    "  request_params.commandLanguage\n",
    "ORDER BY\n",
    "  minutes DESC\n",
    "LIMIT\n",
    "  10;"
   ]
  },
  {
   "cell_type": "code",
   "execution_count": 0,
   "metadata": {
    "application/vnd.databricks.v1+cell": {
     "cellMetadata": {},
     "inputWidgets": {},
     "nuid": "eef56bcd-546f-4c9f-8177-2bde51267d1b",
     "showTitle": true,
     "tableResultSettingsMap": {},
     "title": "¿Cuáles son los comandos que consumen más tiempo dentro de los clústeres interactivos?"
    }
   },
   "outputs": [],
   "source": [
    "--10. ¿Cuáles son los comandos que consumen más tiempo dentro de los clústeres interactivos?\n",
    "\n",
    "SELECT\n",
    "  a.event_date,\n",
    "  a.user_identity.email,\n",
    "  a.request_params.notebookId,\n",
    "  a.request_params.clusterId,\n",
    "  a.request_params.status,\n",
    "  a.request_params.executionTime AS seconds,\n",
    "  a.request_params.executionTime / 60 AS minutes,\n",
    "  a.request_params.executionTime / 60 / 60 AS hour,\n",
    "  a.request_params.commandLanguage,\n",
    "  a.request_params.commandId,\n",
    "  a.request_params.commandText\n",
    "FROM\n",
    "  system.access.audit AS a\n",
    "WHERE\n",
    "  1 = 1\n",
    "  AND a.action_name = 'runCommand'\n",
    "  AND a.request_params.status NOT IN ('skipped')\n",
    "  AND TIMESTAMPDIFF(HOUR, a.event_date, CURRENT_TIMESTAMP()) < 24 * 90\n",
    "ORDER BY\n",
    "  seconds DESC;"
   ]
  },
  {
   "cell_type": "code",
   "execution_count": 0,
   "metadata": {
    "application/vnd.databricks.v1+cell": {
     "cellMetadata": {},
     "inputWidgets": {},
     "nuid": "0309542f-bef3-40e4-bc3d-f90ac067df21",
     "showTitle": true,
     "tableResultSettingsMap": {},
     "title": "¿Cuál es el consumo diario de Serverless Notebook?"
    }
   },
   "outputs": [],
   "source": [
    "--11. ¿Cuál es el consumo diario de Serverless Notebook?\n",
    "\n",
    "SELECT\n",
    "  u.usage_date,\n",
    "  u.sku_name,\n",
    "  u.billing_origin_product,\n",
    "  u.usage_quantity,\n",
    "  u.usage_type,\n",
    "  u.usage_metadata,\n",
    "  u.custom_tags,\n",
    "  u.product_features\n",
    "FROM system.billing.usage u\n",
    "WHERE u.sku_name LIKE '%SERVERLESS%'\n",
    "  AND u.product_features.is_serverless\n",
    "  AND u.billing_origin_product IN ('NOTEBOOKS', 'INTERACTIVE')\n",
    "ORDER BY u.usage_date DESC;"
   ]
  },
  {
   "cell_type": "code",
   "execution_count": 0,
   "metadata": {
    "application/vnd.databricks.v1+cell": {
     "cellMetadata": {},
     "inputWidgets": {},
     "nuid": "84fb3987-329d-41ba-913a-6e3c9d5eb3e5",
     "showTitle": true,
     "tableResultSettingsMap": {},
     "title": "¿Cuánto consumió cada usuario en Serverless Notebook en los últimos 30 días?"
    }
   },
   "outputs": [],
   "source": [
    "--12. ¿Cuánto consumió cada usuario en Serverless Notebook en los últimos 30 días?\n",
    "\n",
    "SELECT\n",
    "  u.usage_metadata.notebook_id,\n",
    "  u.identity_metadata.run_as,\n",
    "  SUM(u.usage_quantity) AS total_dbu\n",
    "FROM\n",
    "  system.billing.usage AS u\n",
    "WHERE\n",
    "  u.billing_origin_product IN ('NOTEBOOKS', 'INTERACTIVE')\n",
    "  AND u.product_features.is_serverless\n",
    "  AND u.usage_unit = 'DBU'\n",
    "  AND u.usage_date >= DATEADD(day, -30, current_date)\n",
    "GROUP BY\n",
    "  ALL\n",
    "ORDER BY\n",
    "  total_dbu DESC;"
   ]
  },
  {
   "cell_type": "code",
   "execution_count": 0,
   "metadata": {
    "application/vnd.databricks.v1+cell": {
     "cellMetadata": {},
     "inputWidgets": {},
     "nuid": "7df1f4a2-e415-4c9f-a2a0-a076fc546bdd",
     "showTitle": true,
     "tableResultSettingsMap": {},
     "title": "¿Qué trabajos del flujo de trabajo de Databricks consumen más tiempo durante el período?"
    }
   },
   "outputs": [],
   "source": [
    "--13. ¿Qué trabajos del flujo de trabajo de Databricks consumen más tiempo durante el período?\n",
    "\n",
    "SELECT \n",
    "    u.usage_metadata.job_id AS job_id,\n",
    "    get_json_object(a.request_params.new_settings, '$.name') AS job_name,\n",
    "    SUM(u.usage_quantity) AS dbus_consumed,\n",
    "    SUM(u.usage_quantity * lp.pricing.default) AS cost\n",
    "FROM \n",
    "    system.billing.usage AS u\n",
    "LEFT JOIN \n",
    "    system.billing.list_prices AS lp \n",
    "    ON u.cloud = lp.cloud \n",
    "    AND u.sku_name = lp.sku_name \n",
    "    AND u.usage_start_time >= lp.price_start_time \n",
    "    AND (u.usage_end_time <= lp.price_end_time OR lp.price_end_time IS NULL)\n",
    "LEFT JOIN \n",
    "    system.access.audit AS a \n",
    "    ON u.usage_metadata.job_id = a.request_params.job_id\n",
    "WHERE \n",
    "    u.usage_metadata.job_id IS NOT NULL\n",
    "    AND a.request_params.new_settings IS NOT NULL\n",
    "    AND a.service_name = 'jobs'\n",
    "GROUP BY \n",
    "    u.usage_metadata.job_id,\n",
    "    a.request_params.new_settings\n",
    "ORDER BY \n",
    "    cost DESC;"
   ]
  },
  {
   "cell_type": "code",
   "execution_count": 0,
   "metadata": {
    "application/vnd.databricks.v1+cell": {
     "cellMetadata": {},
     "inputWidgets": {},
     "nuid": "8998b1fa-f01e-4126-9617-7163fa837b11",
     "showTitle": true,
     "tableResultSettingsMap": {},
     "title": "¿Cuál es el consumo diario de Job Serverless (últimos 60 días)?"
    }
   },
   "outputs": [],
   "source": [
    "--14. ¿Cuál es el consumo diario de Job Serverless (últimos 60 días)?\n",
    "\n",
    "SELECT\n",
    "    us.usage_date,\n",
    "    SUM(us.usage_quantity) AS dbus,\n",
    "    dbus * ANY_VALUE(lp.pricing.`default`) AS cost_at_list_price\n",
    "FROM\n",
    "    system.billing.usage AS us\n",
    "    LEFT JOIN system.billing.list_prices AS lp \n",
    "        ON lp.sku_name = us.sku_name \n",
    "        AND lp.price_end_time IS NULL\n",
    "WHERE\n",
    "    us.usage_date >= DATE_SUB(current_date(), 60)\n",
    "    AND us.sku_name LIKE \"%JOBS_SERVERLESS%\"\n",
    "GROUP BY\n",
    "    ALL;"
   ]
  },
  {
   "cell_type": "code",
   "execution_count": 0,
   "metadata": {
    "application/vnd.databricks.v1+cell": {
     "cellMetadata": {},
     "inputWidgets": {},
     "nuid": "92788ce6-5336-4574-9c1d-7aa213d7d874",
     "showTitle": true,
     "tableResultSettingsMap": {},
     "title": "¿Cuanto cuesta cada proyecto? (verificando por etiqueta \"Proyecto\")"
    }
   },
   "outputs": [],
   "source": [
    "--15. ¿Cuanto cuesta cada proyecto? (verificando por etiqueta \"Proyecto\")\n",
    "\n",
    "SELECT u.custom_tags.project as `Project`,\n",
    "      sum(u.usage_quantity) as `DBUs Consumed`,\n",
    "      sum(u.usage_quantity * lp.pricing.default) as `Total Dollar Cost`\n",
    " FROM system.billing.usage u\n",
    "     LEFT JOIN system.billing.list_prices lp ON u.cloud = lp.cloud AND\n",
    "       u.sku_name = lp.sku_name AND\n",
    "       u.usage_start_time >= lp.price_start_time AND\n",
    "       (u.usage_end_time <= lp.price_end_time or lp.price_end_time is null)\n",
    "GROUP BY ALL;"
   ]
  },
  {
   "cell_type": "code",
   "execution_count": 0,
   "metadata": {
    "application/vnd.databricks.v1+cell": {
     "cellMetadata": {},
     "inputWidgets": {},
     "nuid": "725fed8b-fe61-46ec-ac55-107855555798",
     "showTitle": true,
     "tableResultSettingsMap": {},
     "title": "¿Cuántos tokens se utilizan en las interacciones con los modelos de base?"
    }
   },
   "outputs": [],
   "source": [
    "--16. ¿Cuántos tokens se utilizan en las interacciones con los modelos de base?\n",
    "\n",
    "SELECT\n",
    "    u.ingestion_date AS data,\n",
    "    u.usage_quantity AS dbus_consumido,\n",
    "    u.usage_quantity * lp.pricing.default AS custo\n",
    "FROM\n",
    "    system.billing.usage u\n",
    "LEFT JOIN\n",
    "    system.billing.list_prices lp \n",
    "    ON u.cloud = lp.cloud\n",
    "    AND u.sku_name = lp.sku_name\n",
    "    AND u.usage_start_time >= lp.price_start_time\n",
    "    AND (u.usage_end_time <= lp.price_end_time OR lp.price_end_time IS NULL)\n",
    "WHERE\n",
    "    u.usage_type = 'TOKEN';"
   ]
  },
  {
   "cell_type": "code",
   "execution_count": 0,
   "metadata": {
    "application/vnd.databricks.v1+cell": {
     "cellMetadata": {},
     "inputWidgets": {},
     "nuid": "fa249e84-95ca-43b2-9430-d1541677fd65",
     "showTitle": true,
     "tableResultSettingsMap": {},
     "title": "¿Cuáles son las tablas más populares (más accedidas)?"
    }
   },
   "outputs": [],
   "source": [
    "--17. ¿Cuáles son las tablas más populares (más accedidas)?\n",
    "\n",
    "SELECT\n",
    "  access_table,\n",
    "  COUNT(access_table) AS qtde_acesso\n",
    "FROM (\n",
    "  SELECT\n",
    "    IFNULL(request_params.full_name_arg, 'Non-specific') AS access_table\n",
    "  FROM\n",
    "    system.access.audit\n",
    "  WHERE\n",
    "    action_name = 'getTable'\n",
    ")\n",
    "WHERE\n",
    "  access_table NOT LIKE '__databricks%'\n",
    "GROUP BY\n",
    "  ALL\n",
    "ORDER BY\n",
    "  qtde_acesso DESC;"
   ]
  },
  {
   "cell_type": "code",
   "execution_count": 0,
   "metadata": {
    "application/vnd.databricks.v1+cell": {
     "cellMetadata": {},
     "inputWidgets": {},
     "nuid": "43deb831-5edc-4349-ba74-d104072f7bd7",
     "showTitle": true,
     "tableResultSettingsMap": {},
     "title": "¿Quién más accede a estas tablas populares?"
    }
   },
   "outputs": [],
   "source": [
    "--18. ¿Quién más accede a estas tablas populares?\n",
    "\n",
    "SELECT \n",
    "  user_identity.email AS user_email,\n",
    "  COUNT(*) AS qnt_acessos\n",
    "FROM \n",
    "  system.access.audit\n",
    "WHERE \n",
    "  request_params.table_full_name = '< poner el nombre de la tabla >'\n",
    "GROUP BY \n",
    "  user_identity.email\n",
    "ORDER BY \n",
    "  qnt_acessos DESC;"
   ]
  },
  {
   "cell_type": "code",
   "execution_count": 0,
   "metadata": {
    "application/vnd.databricks.v1+cell": {
     "cellMetadata": {},
     "inputWidgets": {},
     "nuid": "c5740e05-6f46-4387-b141-e89db933add3",
     "showTitle": true,
     "tableResultSettingsMap": {},
     "title": "¿A qué tablas accedió un usuario en las últimas 24 horas?"
    }
   },
   "outputs": [],
   "source": [
    "--19. ¿A qué tablas accedió un usuario en las últimas 24 horas?\n",
    "\n",
    "SELECT \n",
    "  a.action_name AS `EVENTO`,\n",
    "  a.event_time AS `CUANDO`,\n",
    "  IFNULL(a.request_params.full_name_arg, 'Non-specific') AS `TABLA`,\n",
    "  IFNULL(a.request_params.commandText, 'GET table') AS `QUERY_TEXT`\n",
    "FROM \n",
    "  system.access.audit AS a\n",
    "WHERE \n",
    "  a.action_name IN (\n",
    "    'createTable', \n",
    "    'commandSubmit', \n",
    "    'getTable', \n",
    "    'deleteTable', \n",
    "    'generateTemporaryTableCredential'\n",
    "  )\n",
    "  AND datediff(now(), a.event_date) < 1\n",
    "ORDER BY \n",
    "  a.event_date DESC;"
   ]
  },
  {
   "cell_type": "code",
   "execution_count": 0,
   "metadata": {
    "application/vnd.databricks.v1+cell": {
     "cellMetadata": {},
     "inputWidgets": {},
     "nuid": "7ddf930e-420e-4dcf-abb9-ec9fe1069bbf",
     "showTitle": true,
     "tableResultSettingsMap": {},
     "title": "¿Cuál es el linaje de una tabla determinada?"
    }
   },
   "outputs": [],
   "source": [
    "--20. ¿Cuál es el linaje de una tabla determinada?\n",
    "\n",
    "SELECT DISTINCT \n",
    "    target_table_full_name \n",
    "FROM \n",
    "    system.access.table_lineage \n",
    "WHERE \n",
    "    source_table_full_name = '< poner el nombre de la tabla >';"
   ]
  },
  {
   "cell_type": "code",
   "execution_count": 0,
   "metadata": {
    "application/vnd.databricks.v1+cell": {
     "cellMetadata": {},
     "inputWidgets": {},
     "nuid": "ea784754-4d70-48e8-b5ac-120164649661",
     "showTitle": true,
     "tableResultSettingsMap": {},
     "title": "¿Quais as entidades que leem de uma determinada tabela?"
    }
   },
   "outputs": [],
   "source": [
    "--21. ¿Quais as entidades que leem de uma determinada tabela?\n",
    "\n",
    "SELECT DISTINCT \n",
    "    tl.entity_type AS entity_type,\n",
    "    tl.entity_id AS entity_id,\n",
    "    tl.source_table_full_name AS source_table_full_name\n",
    "FROM \n",
    "    system.access.table_lineage AS tl\n",
    "WHERE \n",
    "    tl.source_table_full_name = '< poner el nombre de la tabla >';"
   ]
  },
  {
   "cell_type": "code",
   "execution_count": 0,
   "metadata": {
    "application/vnd.databricks.v1+cell": {
     "cellMetadata": {},
     "inputWidgets": {},
     "nuid": "a47b5a6b-3727-46ee-9235-054dc99d75fc",
     "showTitle": true,
     "tableResultSettingsMap": {},
     "title": "¿Qué tablas tienen comentarios vacíos?"
    }
   },
   "outputs": [],
   "source": [
    "--22. ¿Qué tablas tienen comentarios vacíos?\n",
    "\n",
    "SELECT\n",
    "    t.table_catalog AS table_catalog\n",
    "    , t.table_schema AS table_schema\n",
    "    , t.table_name AS table_name\n",
    "    , t.table_catalog || '.' || t.table_schema || '.' || t.table_name AS table_unique_name\n",
    "    , t.table_owner AS table_owner\n",
    "    , t.table_type AS table_type\n",
    "    , t.last_altered_by AS table_last_altered_by\n",
    "    , t.last_altered AS table_last_altered_at\n",
    "    , t.data_source_format AS table_data_source_format\n",
    "    , t.`comment` AS table_comment\n",
    "    , CASE \n",
    "        WHEN t.`comment` IS NULL THEN true \n",
    "        ELSE false \n",
    "      END AS table_empty_comment\n",
    "FROM\n",
    "    system.information_schema.tables t\n",
    "WHERE\n",
    "    t.table_catalog != 'system'\n",
    "    AND t.table_catalog != '__databricks_internal'\n",
    "    AND t.table_schema != 'information_schema'\n",
    "    AND t.`comment` IS NULL;"
   ]
  },
  {
   "cell_type": "code",
   "execution_count": 0,
   "metadata": {
    "application/vnd.databricks.v1+cell": {
     "cellMetadata": {},
     "inputWidgets": {},
     "nuid": "d028ab19-5e8e-4a9b-a4d8-17b7cd32eb31",
     "showTitle": true,
     "tableResultSettingsMap": {},
     "title": "¿Qué columnas tienen comentarios vacíos?"
    }
   },
   "outputs": [],
   "source": [
    "--23. ¿Qué columnas tienen comentarios vacíos?\n",
    "\n",
    "SELECT \n",
    "  c.table_catalog AS table_catalog,\n",
    "  c.table_schema AS table_schema,\n",
    "  c.table_name AS table_name,\n",
    "  c.column_name AS column_name,\n",
    "  c.table_catalog || '.' || c.table_schema || '.' || c.table_name || '.' || c.column_name AS column_unique_name,\n",
    "  c.is_nullable AS column_is_nullable,\n",
    "  c.full_data_type AS column_full_data_type,\n",
    "  c.`comment` AS columns_comment\n",
    "FROM \n",
    "  system.information_schema.columns AS c\n",
    "WHERE \n",
    "  TRUE\n",
    "  AND c.table_catalog != 'system'\n",
    "  AND c.table_catalog != '__databricks_internal'\n",
    "  AND c.table_schema != 'information_schema'\n",
    "  AND c.`comment` IS NULL;"
   ]
  },
  {
   "cell_type": "code",
   "execution_count": 0,
   "metadata": {
    "application/vnd.databricks.v1+cell": {
     "cellMetadata": {},
     "inputWidgets": {},
     "nuid": "20a1f4dc-633e-4dcd-9460-9de277c39a11",
     "showTitle": true,
     "tableResultSettingsMap": {},
     "title": "¿Cuáles son las tablas menos populares (a las que no se ha accedido en los últimos 90 días)?"
    }
   },
   "outputs": [],
   "source": [
    "--24. ¿Cuáles son las tablas menos populares (a las que no se ha accedido en los últimos 90 días)?\n",
    "\n",
    "WITH used_tables AS (\n",
    "  SELECT\n",
    "    source_table_catalog,\n",
    "    source_table_schema,\n",
    "    source_table_name,\n",
    "    COUNT(DISTINCT created_by) AS downstream_users,\n",
    "    COUNT(*) AS downstream_dependents\n",
    "  FROM\n",
    "    system.access.table_lineage\n",
    "  WHERE\n",
    "    source_table_full_name IS NOT NULL\n",
    "    AND event_time >= date_add(now(), -90)\n",
    "  GROUP BY\n",
    "    ALL\n",
    ")\n",
    "\n",
    "SELECT\n",
    "  t.table_catalog,\n",
    "  t.table_schema,\n",
    "  t.table_name,\n",
    "  t.table_type,\n",
    "  t.table_owner,\n",
    "  t.comment AS table_comment,\n",
    "  t.created AS table_created_at,\n",
    "  t.created_by AS table_created_by,\n",
    "  t.last_altered AS table_last_update_at,\n",
    "  t.last_altered_by AS table_last_altered_by\n",
    "FROM\n",
    "  system.information_schema.tables AS t\n",
    "LEFT JOIN\n",
    "  used_tables AS ut ON ut.source_table_catalog = t.table_catalog\n",
    "  AND ut.source_table_schema = t.table_schema\n",
    "  AND ut.source_table_name = t.table_name\n",
    "WHERE\n",
    "  ut.downstream_dependents IS NULL\n",
    "  AND t.table_catalog != 'system'\n",
    "  AND t.table_catalog != '__databricks_internal'\n",
    "  AND t.table_schema != 'information_schema';"
   ]
  },
  {
   "cell_type": "code",
   "execution_count": 0,
   "metadata": {
    "application/vnd.databricks.v1+cell": {
     "cellMetadata": {},
     "inputWidgets": {},
     "nuid": "aa54754f-1589-4434-9db0-c42148f7142a",
     "showTitle": true,
     "tableResultSettingsMap": {},
     "title": "¿Qué comando SQL se ejecutó en una tabla determinada?"
    }
   },
   "outputs": [],
   "source": [
    "--25. ¿Qué comando SQL se ejecutó en una tabla determinada?\n",
    "\n",
    "SELECT\n",
    "    l.source_table_full_name,\n",
    "    l.entity_type,\n",
    "    q.statement_text,\n",
    "    q.executed_by,\n",
    "    q.end_time\n",
    "FROM system.access.table_lineage AS l\n",
    "JOIN system.query.history AS q\n",
    "    ON l.entity_run_id = q.statement_id\n",
    "WHERE l.source_table_full_name = '< poner el nombre de la tabla >';"
   ]
  }
 ],
 "metadata": {
  "application/vnd.databricks.v1+notebook": {
   "computePreferences": null,
   "dashboards": [],
   "environmentMetadata": {
    "base_environment": "",
    "environment_version": "2"
   },
   "inputWidgetPreferences": null,
   "language": "sql",
   "notebookMetadata": {
    "mostRecentlyExecutedCommandWithImplicitDF": {
     "commandId": -1,
     "dataframes": [
      "_sqldf"
     ]
    },
    "pythonIndentUnit": 2
   },
   "notebookName": "System Tables Queries",
   "widgets": {}
  },
  "language_info": {
   "name": "sql"
  }
 },
 "nbformat": 4,
 "nbformat_minor": 0
}
